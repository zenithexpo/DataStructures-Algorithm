{
  "nbformat": 4,
  "nbformat_minor": 0,
  "metadata": {
    "colab": {
      "name": "1.BinarySearch-Intro.ipynb",
      "provenance": [],
      "authorship_tag": "ABX9TyMHU8Eqb0v4lefnNZXghIwc",
      "include_colab_link": true
    },
    "kernelspec": {
      "name": "python3",
      "display_name": "Python 3"
    }
  },
  "cells": [
    {
      "cell_type": "markdown",
      "metadata": {
        "id": "view-in-github",
        "colab_type": "text"
      },
      "source": [
        "<a href=\"https://colab.research.google.com/github/zenithexpo/DataStructures-Algorithm/blob/master/Basic%20Algorithms/Binary%20Search/1_BinarySearch_Intro.ipynb\" target=\"_parent\"><img src=\"https://colab.research.google.com/assets/colab-badge.svg\" alt=\"Open In Colab\"/></a>"
      ]
    },
    {
      "cell_type": "markdown",
      "metadata": {
        "id": "oTkGVdsDyN9j",
        "colab_type": "text"
      },
      "source": [
        "# **Binary search**\n",
        "\n",
        "Binary search is probably one of the most common algorithms that we all use without even realizing we are using it.\n",
        "\n",
        "To help build a little intuition for how it works, let's first look at a classic game where the most efficient way to win is to use binary search.\n"
      ]
    },
    {
      "cell_type": "markdown",
      "metadata": {
        "id": "2icgOEglyZtK",
        "colab_type": "text"
      },
      "source": [
        "**Guess the number**\n",
        "\n",
        "This notebook simulates a classic game where you have to guess a random number from within a certain range. Typically, you might have to guess a number from 1 to 10, and have three guesses to get the right answer.\n",
        "\n",
        "In this case, you'll need to guess a random number between 1 and 100, and you will have 7 tries.\n",
        "\n",
        "Try running it and playing a round or two. Notice that the game always tells you whether your guess was too high or too low. This information allows you to rule out some of the numbers (so that you don't waste time guessing those numbers).\n",
        "\n",
        "With this fact in mind, try to make your guesses in the most efficient way you can. Specifically, try to make guesses that rule out the largest number of possibilities each time.\n"
      ]
    },
    {
      "cell_type": "code",
      "metadata": {
        "id": "is_-kMJhyT02",
        "colab_type": "code",
        "outputId": "2746f7d6-0bd9-45a1-d574-65fe503a2d9c",
        "colab": {
          "base_uri": "https://localhost:8080/",
          "height": 380
        }
      },
      "source": [
        "import random\n",
        "\n",
        "def guess_the_number(total_tries, start_range, end_range):\n",
        "    if start_range > end_range:\n",
        "        start_range, end_range = end_range, start_range\n",
        "        \n",
        "    random_number = random.randint(start_range, end_range)\n",
        "    try_count = 0\n",
        "    success_message = \"Awesome! You guessed correctly\"\n",
        "    failure_message = \"Sorry! No more retries left\"\n",
        "    miss_message = \"Oops! That's incorrect\"\n",
        "    \n",
        "    num_tries = 0\n",
        "    while num_tries < total_tries:\n",
        "        attempt = int(input(\"Guess the number: \"))\n",
        "        \n",
        "        if attempt == random_number:\n",
        "            print(success_message)\n",
        "            return\n",
        "        print(miss_message)\n",
        "        if attempt < random_number:\n",
        "            print(\"Go higher!\")\n",
        "        else:\n",
        "            print(\"Go lower!\")\n",
        "        num_tries += 1\n",
        "    print(failure_message)\n",
        "\n",
        "total_tries = 7\n",
        "start_range = 1\n",
        "end_range = 100\n",
        "guess_the_number(total_tries, start_range, end_range)"
      ],
      "execution_count": 0,
      "outputs": [
        {
          "output_type": "stream",
          "text": [
            "Guess the number: 100\n",
            "Oops! That's incorrect\n",
            "Go lower!\n",
            "Guess the number: 50\n",
            "Oops! That's incorrect\n",
            "Go higher!\n",
            "Guess the number: 75\n",
            "Oops! That's incorrect\n",
            "Go higher!\n",
            "Guess the number: 90\n",
            "Oops! That's incorrect\n",
            "Go lower!\n",
            "Guess the number: 80\n",
            "Oops! That's incorrect\n",
            "Go higher!\n",
            "Guess the number: 88\n",
            "Oops! That's incorrect\n",
            "Go higher!\n",
            "Guess the number: 89\n",
            "Awesome! You guessed correctly\n"
          ],
          "name": "stdout"
        }
      ]
    },
    {
      "cell_type": "markdown",
      "metadata": {
        "id": "CL7KXIiwzQZu",
        "colab_type": "text"
      },
      "source": [
        "Obviously, there is some randomness involved in this game, so in some cases you may run out of tries before guessing correctly. However, if you use a binary search strategy, you'll find the number efficiently and win most of the time.\n",
        "\n",
        "But before we look further into binary search, let's first look at an alternative: Linear search.\n"
      ]
    },
    {
      "cell_type": "code",
      "metadata": {
        "id": "ajiOepZMyeJa",
        "colab_type": "code",
        "colab": {}
      },
      "source": [
        ""
      ],
      "execution_count": 0,
      "outputs": []
    }
  ]
}