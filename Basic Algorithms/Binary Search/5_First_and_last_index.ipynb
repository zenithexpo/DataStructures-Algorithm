{
  "nbformat": 4,
  "nbformat_minor": 0,
  "metadata": {
    "graffiti": {
      "firstAuthorId": "dev",
      "id": "id_qwr7xir",
      "language": "EN"
    },
    "kernelspec": {
      "display_name": "Python 3",
      "language": "python",
      "name": "python3"
    },
    "language_info": {
      "codemirror_mode": {
        "name": "ipython",
        "version": 3
      },
      "file_extension": ".py",
      "mimetype": "text/x-python",
      "name": "python",
      "nbconvert_exporter": "python",
      "pygments_lexer": "ipython3",
      "version": "3.6.3"
    },
    "colab": {
      "name": "5.First and last index.ipynb",
      "provenance": [],
      "include_colab_link": true
    }
  },
  "cells": [
    {
      "cell_type": "markdown",
      "metadata": {
        "id": "view-in-github",
        "colab_type": "text"
      },
      "source": [
        "<a href=\"https://colab.research.google.com/github/zenithexpo/DataStructures-Algorithm/blob/master/Basic%20Algorithms/Binary%20Search/5_First_and_last_index.ipynb\" target=\"_parent\"><img src=\"https://colab.research.google.com/assets/colab-badge.svg\" alt=\"Open In Colab\"/></a>"
      ]
    },
    {
      "cell_type": "markdown",
      "metadata": {
        "graffitiCellId": "id_pr3r54a",
        "id": "O4phFofn9fOt",
        "colab_type": "text"
      },
      "source": [
        "## Problem statement\n",
        "\n",
        "Given a sorted array that may have duplicate values, use *binary search* to find the **first** and **last** indexes of a given value.\n",
        "\n",
        "For example, if you have the array `[0, 1, 2, 2, 3, 3, 3, 4, 5, 6]` and the given value is `3`, the answer will be `[4, 6]` (because the value `3` occurs first at index `4` and last at index `6` in the array).\n",
        "\n",
        "The expected complexity of the problem is $O(log(n))$."
      ]
    },
    {
      "cell_type": "code",
      "metadata": {
        "graffitiCellId": "id_stslkm6",
        "id": "uQmifPTZ9fOu",
        "colab_type": "code",
        "colab": {}
      },
      "source": [
        "def first_and_last_index(arr, number):\n",
        "    \"\"\"\n",
        "    Given a sorted array that may have duplicate values, use binary \n",
        "    search to find the first and last indexes of a given value.\n",
        "\n",
        "    Args:\n",
        "        arr(list): Sorted array (or Python list) that may have duplicate values\n",
        "        number(int): Value to search for in the array\n",
        "    Returns:\n",
        "        a list containing the first and last indexes of the given value\n",
        "    \"\"\"\n",
        "        \n",
        "    # TODO: Write your first_and_last function here\n",
        "    # Note that you may want to write helper functions to find the start \n",
        "    # index and the end index\n",
        "       \n",
        "    pass"
      ],
      "execution_count": 0,
      "outputs": []
    },
    {
      "cell_type": "markdown",
      "metadata": {
        "graffitiCellId": "id_y3lxp1x",
        "id": "Qf8b6s0C9fOy",
        "colab_type": "text"
      },
      "source": [
        "<span class=\"graffiti-highlight graffiti-id_y3lxp1x-id_fkngaks\"><i></i><button>Hide Solution</button></span>"
      ]
    },
    {
      "cell_type": "code",
      "metadata": {
        "graffitiCellId": "id_fkngaks",
        "id": "aLXbD5__9fOy",
        "colab_type": "code",
        "colab": {}
      },
      "source": [
        "def first_and_last_index(arr, number):\n",
        "    # search first occurence\n",
        "    first_index = find_start_index(arr, number, 0, len(arr) - 1)\n",
        "    \n",
        "    # search last occurence\n",
        "    last_index =  find_end_index(arr, number, 0, len(arr) - 1)\n",
        "    return [first_index, last_index]\n",
        "\n",
        "\n",
        "def find_start_index(arr, number, start_index, end_index):\n",
        "    # binary search solution to search for the first index of the array\n",
        "    if start_index > end_index:\n",
        "        return -1\n",
        "\n",
        "    mid_index = start_index + (end_index - start_index)//2\n",
        "\n",
        "    if arr[mid_index] == number:\n",
        "        current_start_pos = find_start_index(arr, number, start_index, mid_index - 1)\n",
        "        if current_start_pos != -1:\n",
        "            start_pos = current_start_pos\n",
        "        else:\n",
        "            start_pos = mid_index\n",
        "        return start_pos\n",
        "\n",
        "    elif arr[mid_index] < number:\n",
        "        return find_start_index(arr, number, mid_index + 1, end_index)\n",
        "    else:\n",
        "        return find_start_index(arr, number, start_index, mid_index - 1)\n",
        "\n",
        "\n",
        "def find_end_index(arr, number, start_index, end_index):\n",
        "    # binary search solution to search for the last index of the array\n",
        "    if start_index > end_index:\n",
        "        return  -1\n",
        "\n",
        "    mid_index = start_index + (end_index - start_index)//2\n",
        "\n",
        "    if arr[mid_index] == number:\n",
        "        current_end_pos = find_end_index(arr, number, mid_index + 1, end_index)\n",
        "        if current_end_pos != -1:\n",
        "            end_pos = current_end_pos\n",
        "        else:\n",
        "            end_pos = mid_index\n",
        "        return end_pos\n",
        "    elif arr[mid_index] < number:\n",
        "        return find_end_index(arr, number, mid_index + 1, end_index)\n",
        "    else:\n",
        "        return find_end_index(arr, number, start_index, mid_index - 1)\n"
      ],
      "execution_count": 0,
      "outputs": []
    },
    {
      "cell_type": "markdown",
      "metadata": {
        "graffitiCellId": "id_ii2o0tq",
        "id": "7lUyk7Qu9fO0",
        "colab_type": "text"
      },
      "source": [
        "Below are several different test cases you can use to check your solution."
      ]
    },
    {
      "cell_type": "code",
      "metadata": {
        "graffitiCellId": "id_a8bxvyg",
        "id": "hthyx3qX9fO1",
        "colab_type": "code",
        "colab": {}
      },
      "source": [
        "def test_function(test_case):\n",
        "    input_list = test_case[0]\n",
        "    number = test_case[1]\n",
        "    solution = test_case[2]\n",
        "    output = first_and_last_index(input_list, number)\n",
        "    if output == solution:\n",
        "        print(\"Pass\")\n",
        "    else:\n",
        "        print(\"Fail\")"
      ],
      "execution_count": 0,
      "outputs": []
    },
    {
      "cell_type": "code",
      "metadata": {
        "graffitiCellId": "id_20phd4q",
        "id": "2x-lgyLZ9fO3",
        "colab_type": "code",
        "colab": {
          "base_uri": "https://localhost:8080/",
          "height": 34
        },
        "outputId": "ead37eaf-5b30-42bf-80a6-17478f868937"
      },
      "source": [
        "input_list = [1]\n",
        "number = 1\n",
        "solution = [0, 0]\n",
        "test_case_1 = [input_list, number, solution]\n",
        "test_function(test_case_1)"
      ],
      "execution_count": 4,
      "outputs": [
        {
          "output_type": "stream",
          "text": [
            "Pass\n"
          ],
          "name": "stdout"
        }
      ]
    },
    {
      "cell_type": "code",
      "metadata": {
        "graffitiCellId": "id_9p3166p",
        "id": "ru9v6oWT9fO6",
        "colab_type": "code",
        "colab": {
          "base_uri": "https://localhost:8080/",
          "height": 34
        },
        "outputId": "076094a2-6bf4-4ca8-b4c7-0229caf9c0f9"
      },
      "source": [
        "input_list = [0, 1, 2, 3, 3, 3, 3, 4, 5, 6]\n",
        "number = 3\n",
        "solution = [3, 6]\n",
        "test_case_2 = [input_list, number, solution]\n",
        "test_function(test_case_2)"
      ],
      "execution_count": 5,
      "outputs": [
        {
          "output_type": "stream",
          "text": [
            "Pass\n"
          ],
          "name": "stdout"
        }
      ]
    },
    {
      "cell_type": "code",
      "metadata": {
        "graffitiCellId": "id_pcvcepp",
        "id": "MuNAhVEq9fO8",
        "colab_type": "code",
        "colab": {
          "base_uri": "https://localhost:8080/",
          "height": 34
        },
        "outputId": "c4eba582-bb56-425e-92cd-4422b08c1faf"
      },
      "source": [
        "input_list = [0, 1, 2, 3, 4, 5]\n",
        "number = 5\n",
        "solution = [5, 5]\n",
        "test_case_3 = [input_list, number, solution]\n",
        "test_function(test_case_3)"
      ],
      "execution_count": 6,
      "outputs": [
        {
          "output_type": "stream",
          "text": [
            "Pass\n"
          ],
          "name": "stdout"
        }
      ]
    },
    {
      "cell_type": "code",
      "metadata": {
        "graffitiCellId": "id_cz075rp",
        "id": "YjSiBeOg9fO-",
        "colab_type": "code",
        "colab": {
          "base_uri": "https://localhost:8080/",
          "height": 34
        },
        "outputId": "c5543ab9-fbc4-4bf1-dd18-dc188efc2953"
      },
      "source": [
        "input_list = [0, 1, 2, 3, 4, 5]\n",
        "number = 6\n",
        "solution = [-1, -1]\n",
        "test_case_4 = [input_list, number, solution]\n",
        "test_function(test_case_4)"
      ],
      "execution_count": 7,
      "outputs": [
        {
          "output_type": "stream",
          "text": [
            "Pass\n"
          ],
          "name": "stdout"
        }
      ]
    }
  ]
}