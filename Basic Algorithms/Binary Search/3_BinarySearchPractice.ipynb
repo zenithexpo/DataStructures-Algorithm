{
  "nbformat": 4,
  "nbformat_minor": 0,
  "metadata": {
    "colab": {
      "name": "4.BinarySearchPractice.ipynb",
      "provenance": [],
      "authorship_tag": "ABX9TyMZv/2mp051CQRn6leyJDsg",
      "include_colab_link": true
    },
    "kernelspec": {
      "name": "python3",
      "display_name": "Python 3"
    }
  },
  "cells": [
    {
      "cell_type": "markdown",
      "metadata": {
        "id": "view-in-github",
        "colab_type": "text"
      },
      "source": [
        "<a href=\"https://colab.research.google.com/github/zenithexpo/DataStructures-Algorithm/blob/master/Basic%20Algorithms/Binary%20Search/3_BinarySearchPractice.ipynb\" target=\"_parent\"><img src=\"https://colab.research.google.com/assets/colab-badge.svg\" alt=\"Open In Colab\"/></a>"
      ]
    },
    {
      "cell_type": "markdown",
      "metadata": {
        "id": "nWtKmgKN4or3",
        "colab_type": "text"
      },
      "source": [
        "# Binary search practice\n",
        "\n",
        "Let's get some practice doing binary search on an array of integers. We'll solve the problem two different ways—both iteratively and resursively.\n",
        "\n",
        "Here is a reminder of how the algorithm works:\n",
        "\n",
        "1. Find the center of the list (try setting an upper and lower bound to find the center)\n",
        "2. Check to see if the element at the center is your target.\n",
        "3. If it is, return the index.\n",
        "4. If not, is the target greater or less than that element?\n",
        "5. If greater, move the lower bound to just above the current center\n",
        "6. If less, move the upper bound to just below the current center\n",
        "7. Repeat steps 1-6 until you find the target or until the bounds are the same or cross (the upper bound is less than the lower bound).\n",
        "\n",
        "\n",
        "## Problem statement:\n",
        "Given a sorted array of integers, and a target value, find the index of the target value in the array. If the target value is not present in the array, return -1.\n",
        "\n",
        "## Iterative solution\n",
        "\n",
        "First, see if you can code an iterative solution (i.e., one that uses loops). If you get stuck, the solution is below."
      ]
    },
    {
      "cell_type": "code",
      "metadata": {
        "id": "inkMxwl_4pYB",
        "colab_type": "code",
        "colab": {}
      },
      "source": [
        "def binary_search(array, target):\n",
        "    '''Write a function that implements the binary search algorithm using iteration\n",
        "   \n",
        "    args:\n",
        "      array: a sorted array of items of the same type\n",
        "      target: the element you're searching for\n",
        "   \n",
        "    returns:\n",
        "      int: the index of the target, if found, in the source\n",
        "      -1: if the target is not found\n",
        "    '''\n",
        "    pass"
      ],
      "execution_count": 0,
      "outputs": []
    },
    {
      "cell_type": "code",
      "metadata": {
        "id": "i5t4ZUDp468q",
        "colab_type": "code",
        "colab": {}
      },
      "source": [
        "def binary_search(array, target):\n",
        "    start_index = 0\n",
        "    end_index = len(array) - 1\n",
        "    \n",
        "    while start_index <= end_index:\n",
        "        mid_index = (start_index + end_index)//2        # integer division in Python 3\n",
        "        \n",
        "        mid_element = array[mid_index]\n",
        "        \n",
        "        if target == mid_element:                       # we have found the element\n",
        "            return mid_index\n",
        "        \n",
        "        elif target < mid_element:                      # the target is less than mid element\n",
        "            end_index = mid_index - 1                   # we will only search in the left half\n",
        "        \n",
        "        else:                                           # the target is greater than mid element\n",
        "            start_index = mid_element + 1               # we will search only in the right half\n",
        "    \n",
        "    return -1"
      ],
      "execution_count": 0,
      "outputs": []
    },
    {
      "cell_type": "markdown",
      "metadata": {
        "id": "XSCeiTOw5D6v",
        "colab_type": "text"
      },
      "source": [
        "Here's some code you can use to test the function:"
      ]
    },
    {
      "cell_type": "code",
      "metadata": {
        "id": "bNBvvziQ4_f8",
        "colab_type": "code",
        "colab": {}
      },
      "source": [
        "def test_function(test_case):\n",
        "    answer = binary_search(test_case[0], test_case[1])\n",
        "    if answer == test_case[2]:\n",
        "        print(\"Pass!\")\n",
        "    else:\n",
        "        print(\"Fail!\")"
      ],
      "execution_count": 0,
      "outputs": []
    },
    {
      "cell_type": "code",
      "metadata": {
        "id": "JI8NPbVT5Gvv",
        "colab_type": "code",
        "colab": {
          "base_uri": "https://localhost:8080/",
          "height": 34
        },
        "outputId": "fdb9df93-94c7-4336-ed01-88af4d00f3e6"
      },
      "source": [
        "array = [0, 1, 2, 3, 4, 5, 6, 7, 8, 9, 10]\n",
        "target = 6\n",
        "index = 6\n",
        "test_case = [array, target, index]\n",
        "test_function(test_case)"
      ],
      "execution_count": 4,
      "outputs": [
        {
          "output_type": "stream",
          "text": [
            "Pass!\n"
          ],
          "name": "stdout"
        }
      ]
    },
    {
      "cell_type": "markdown",
      "metadata": {
        "id": "JFACbnG95L6W",
        "colab_type": "text"
      },
      "source": [
        "## Recursive solution\n",
        "Now, see if you can write a function that gives the same results, but that uses recursion to do so."
      ]
    },
    {
      "cell_type": "code",
      "metadata": {
        "id": "vZQzyxU85I1V",
        "colab_type": "code",
        "colab": {}
      },
      "source": [
        "def binary_search_recursive(array, target, start_index, end_index):\n",
        "    '''Write a function that implements the binary search algorithm using recursion\n",
        "    \n",
        "    args:\n",
        "      array: a sorted array of items of the same type\n",
        "      target: the element you're searching for\n",
        "         \n",
        "    returns:\n",
        "      int: the index of the target, if found, in the source\n",
        "      -1: if the target is not found\n",
        "    '''\n",
        "    return binary_search_recursive_soln(array, target, 0, len(array) - 1)"
      ],
      "execution_count": 0,
      "outputs": []
    },
    {
      "cell_type": "code",
      "metadata": {
        "id": "m9tk3D6l5O63",
        "colab_type": "code",
        "colab": {}
      },
      "source": [
        "def binary_search_recursive_soln(array, target, start_index, end_index):\n",
        "    if start_index > end_index:\n",
        "        return -1\n",
        "    \n",
        "    mid_index = (start_index + end_index)//2\n",
        "    mid_element = array[mid_index]\n",
        "    \n",
        "    if mid_element == target:\n",
        "        return mid_index\n",
        "    elif target < mid_element:\n",
        "        return binary_search_recursive_soln(array, target, start_index, mid_index - 1)\n",
        "    else:\n",
        "        return binary_search_recursive_soln(array, target, mid_index + 1, end_index)"
      ],
      "execution_count": 0,
      "outputs": []
    },
    {
      "cell_type": "markdown",
      "metadata": {
        "id": "gvnmnLCH5avH",
        "colab_type": "text"
      },
      "source": [
        "Here's some code you can use to test the function:"
      ]
    },
    {
      "cell_type": "code",
      "metadata": {
        "id": "xAD24pG65XVL",
        "colab_type": "code",
        "colab": {}
      },
      "source": [
        "def test_function(test_case):\n",
        "    answer = binary_search_recursive(test_case[0], test_case[1])\n",
        "    if answer == test_case[2]:\n",
        "        print(\"Pass!\")\n",
        "    else:\n",
        "        print(\"Fail!\")"
      ],
      "execution_count": 0,
      "outputs": []
    },
    {
      "cell_type": "code",
      "metadata": {
        "id": "hzfznIYP5gdQ",
        "colab_type": "code",
        "colab": {
          "base_uri": "https://localhost:8080/",
          "height": 313
        },
        "outputId": "9beba01a-df3a-41f0-d9aa-c7bd5492acfd"
      },
      "source": [
        "array = [0, 1, 2, 3, 4, 5, 6, 7, 8, 9]\n",
        "target = 4\n",
        "index = 4\n",
        "test_case = [array, target, index]\n",
        "test_function(test_case)"
      ],
      "execution_count": 10,
      "outputs": [
        {
          "output_type": "error",
          "ename": "TypeError",
          "evalue": "ignored",
          "traceback": [
            "\u001b[0;31m---------------------------------------------------------------------------\u001b[0m",
            "\u001b[0;31mTypeError\u001b[0m                                 Traceback (most recent call last)",
            "\u001b[0;32m<ipython-input-10-827c4eaf74a4>\u001b[0m in \u001b[0;36m<module>\u001b[0;34m()\u001b[0m\n\u001b[1;32m      3\u001b[0m \u001b[0mindex\u001b[0m \u001b[0;34m=\u001b[0m \u001b[0;36m4\u001b[0m\u001b[0;34m\u001b[0m\u001b[0;34m\u001b[0m\u001b[0m\n\u001b[1;32m      4\u001b[0m \u001b[0mtest_case\u001b[0m \u001b[0;34m=\u001b[0m \u001b[0;34m[\u001b[0m\u001b[0marray\u001b[0m\u001b[0;34m,\u001b[0m \u001b[0mtarget\u001b[0m\u001b[0;34m,\u001b[0m \u001b[0mindex\u001b[0m\u001b[0;34m]\u001b[0m\u001b[0;34m\u001b[0m\u001b[0;34m\u001b[0m\u001b[0m\n\u001b[0;32m----> 5\u001b[0;31m \u001b[0mtest_function\u001b[0m\u001b[0;34m(\u001b[0m\u001b[0mtest_case\u001b[0m\u001b[0;34m)\u001b[0m\u001b[0;34m\u001b[0m\u001b[0;34m\u001b[0m\u001b[0m\n\u001b[0m",
            "\u001b[0;32m<ipython-input-9-f8eaff797699>\u001b[0m in \u001b[0;36mtest_function\u001b[0;34m(test_case)\u001b[0m\n\u001b[1;32m      1\u001b[0m \u001b[0;32mdef\u001b[0m \u001b[0mtest_function\u001b[0m\u001b[0;34m(\u001b[0m\u001b[0mtest_case\u001b[0m\u001b[0;34m)\u001b[0m\u001b[0;34m:\u001b[0m\u001b[0;34m\u001b[0m\u001b[0;34m\u001b[0m\u001b[0m\n\u001b[0;32m----> 2\u001b[0;31m     \u001b[0manswer\u001b[0m \u001b[0;34m=\u001b[0m \u001b[0mbinary_search_recursive\u001b[0m\u001b[0;34m(\u001b[0m\u001b[0mtest_case\u001b[0m\u001b[0;34m[\u001b[0m\u001b[0;36m0\u001b[0m\u001b[0;34m]\u001b[0m\u001b[0;34m,\u001b[0m \u001b[0mtest_case\u001b[0m\u001b[0;34m[\u001b[0m\u001b[0;36m1\u001b[0m\u001b[0;34m]\u001b[0m\u001b[0;34m)\u001b[0m\u001b[0;34m\u001b[0m\u001b[0;34m\u001b[0m\u001b[0m\n\u001b[0m\u001b[1;32m      3\u001b[0m     \u001b[0;32mif\u001b[0m \u001b[0manswer\u001b[0m \u001b[0;34m==\u001b[0m \u001b[0mtest_case\u001b[0m\u001b[0;34m[\u001b[0m\u001b[0;36m2\u001b[0m\u001b[0;34m]\u001b[0m\u001b[0;34m:\u001b[0m\u001b[0;34m\u001b[0m\u001b[0;34m\u001b[0m\u001b[0m\n\u001b[1;32m      4\u001b[0m         \u001b[0mprint\u001b[0m\u001b[0;34m(\u001b[0m\u001b[0;34m\"Pass!\"\u001b[0m\u001b[0;34m)\u001b[0m\u001b[0;34m\u001b[0m\u001b[0;34m\u001b[0m\u001b[0m\n\u001b[1;32m      5\u001b[0m     \u001b[0;32melse\u001b[0m\u001b[0;34m:\u001b[0m\u001b[0;34m\u001b[0m\u001b[0;34m\u001b[0m\u001b[0m\n",
            "\u001b[0;31mTypeError\u001b[0m: binary_search_recursive() missing 2 required positional arguments: 'start_index' and 'end_index'"
          ]
        }
      ]
    },
    {
      "cell_type": "code",
      "metadata": {
        "id": "fYJaDNd75ikI",
        "colab_type": "code",
        "colab": {}
      },
      "source": [
        ""
      ],
      "execution_count": 0,
      "outputs": []
    }
  ]
}