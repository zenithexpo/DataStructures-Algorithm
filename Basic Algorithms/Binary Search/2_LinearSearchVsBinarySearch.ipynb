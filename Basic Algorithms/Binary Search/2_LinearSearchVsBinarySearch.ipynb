{
  "nbformat": 4,
  "nbformat_minor": 0,
  "metadata": {
    "colab": {
      "name": "2.LinearSearchVsBinarySearch.ipynb",
      "provenance": [],
      "authorship_tag": "ABX9TyPln4W4R+xGiS0qnTouegOU",
      "include_colab_link": true
    },
    "kernelspec": {
      "name": "python3",
      "display_name": "Python 3"
    }
  },
  "cells": [
    {
      "cell_type": "markdown",
      "metadata": {
        "id": "view-in-github",
        "colab_type": "text"
      },
      "source": [
        "<a href=\"https://colab.research.google.com/github/zenithexpo/DataStructures-Algorithm/blob/master/Basic%20Algorithms/Binary%20Search/2_LinearSearchVsBinarySearch.ipynb\" target=\"_parent\"><img src=\"https://colab.research.google.com/assets/colab-badge.svg\" alt=\"Open In Colab\"/></a>"
      ]
    },
    {
      "cell_type": "markdown",
      "metadata": {
        "id": "NUAAw5Q-0pL9",
        "colab_type": "text"
      },
      "source": [
        "# ***Linear search***\n",
        "\n",
        "Suppose that you have a dictionary of words and that you need to look up a particular word in this dictionary. However, this dictionary is a pretty terrible dictionary, because the words are all in a scrambled order (and not alphabetical as they usually are). What search strategy would you use to find the definition you're looking for?\n",
        "\n",
        "Because the words are in a random order, the best we can do is simply to go one by one, from the first page to the last page, in a sequential manner. Sounds tedious, right? This is called linear search. We have no idea about the order of the words, so we simply have to flip through the pages, one by one, until we find the word we are looking for.\n",
        "\n",
        "With the example of the guessing game, you could use linear search there as well—by simply starting with 1 and guessing every number until you get to 100 (or rather, until you run out of tries and lose the game!).\n"
      ]
    },
    {
      "cell_type": "markdown",
      "metadata": {
        "id": "PFjRw_vP1UIn",
        "colab_type": "text"
      },
      "source": [
        "## **Back to binary search**\n",
        "\n",
        "Now let's consider a different scenario: Similar to the above, we have a dictionary and a word that we want to find in that dictionary. But this time, the dictionary is sorted in alphabetical order (just as you would expect from any decent dictionary). We still don't know what page our word is on, so we'll need to search for it—but the fact that the dictionary is sorted changes the strategy we should use.\n"
      ]
    },
    {
      "cell_type": "markdown",
      "metadata": {
        "id": "aVlEGxb41mQQ",
        "colab_type": "text"
      },
      "source": [
        "You're going to make your first guess about which page the word might be on. Then you'll open the dictionary and take a look to see if you're right.\n",
        "\n",
        "Which page should you look at first? (Assuming you want to find the word as quickly as possible.) \n"
      ]
    },
    {
      "cell_type": "markdown",
      "metadata": {
        "id": "1WcjJT9l14UB",
        "colab_type": "text"
      },
      "source": [
        "`Note: With a real dictionary, we might have some idea about the approximate location of a word. For example, if the word is \"aardvark\", we know it is going to be close to the beginning of the dictionary, while if it is \"zebra\", we know it will be close to the end. For the purposes of this example, we're going to ignore this kind of information.`"
      ]
    },
    {
      "cell_type": "markdown",
      "metadata": {
        "id": "wp7qwc5p2Vrb",
        "colab_type": "text"
      },
      "source": [
        "Of the above options, the best strategy we can take is to open the dictionary in the middle.\n",
        "\n",
        "Then, we do the following:\n",
        "\n",
        "    Compare the target word with the words on this page.\n",
        "    If the target word comes earlier (in terms of alphabetical order), then we discard the right half of the book. From now on, we will only search in the left half.\n",
        "    Similarly, if the word comes later than the words on this page, then we discard the left half of the book. From now on, we will only search in the right half.\n",
        "\n",
        "Whatever happens, we are guaranteed to be able to discard half of the search space in this first step alone.\n",
        "\n",
        "Next, we repeat this process. We take the remaining half of the dictionary and we open it to the middle page. We then discard the left or right half, and repeat again. We continue this process, eliminating half of the search space at each step, until we find the target word. This is binary search.\n",
        "\n",
        "Note that the word binary means \"having two parts\". Binary search means we are doing a search where, at each step, we divide the input into two parts. Also note that the data we are searching through has to be sorted.\n",
        "\n",
        "Let's see what this would look like on a real data structure, such as an array:"
      ]
    },
    {
      "cell_type": "markdown",
      "metadata": {
        "id": "dJv7ZvH_2h_t",
        "colab_type": "text"
      },
      "source": [
        "In summary:\n",
        "\n",
        "    Binary search is a search algorithm where we find the position of a target value by comparing the middle value with this target value.\n",
        "    If the middle value is equal to the target value, then we have our solution (we have found the position of our target value).\n",
        "    If the target value comes before the middle value, we look for the target value in the left half.\n",
        "    Otherwise, we look for the target value in the right half.\n",
        "    We repeat this process as many times as needed, until we find the target value.\n",
        "\n",
        "\n",
        "\n",
        "\n"
      ]
    },
    {
      "cell_type": "code",
      "metadata": {
        "id": "Ocl7bYnT2f6w",
        "colab_type": "code",
        "colab": {}
      },
      "source": [
        ""
      ],
      "execution_count": 0,
      "outputs": []
    },
    {
      "cell_type": "code",
      "metadata": {
        "id": "wPcg_iCJ06aT",
        "colab_type": "code",
        "colab": {}
      },
      "source": [
        ""
      ],
      "execution_count": 0,
      "outputs": []
    }
  ]
}