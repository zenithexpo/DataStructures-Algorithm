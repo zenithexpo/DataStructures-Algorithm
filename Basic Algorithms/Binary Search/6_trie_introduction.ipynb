{
  "nbformat": 4,
  "nbformat_minor": 0,
  "metadata": {
    "graffiti": {
      "firstAuthorId": "dev",
      "id": "id_4i2q7we",
      "language": "EN"
    },
    "kernelspec": {
      "display_name": "Python 3",
      "language": "python",
      "name": "python3"
    },
    "language_info": {
      "codemirror_mode": {
        "name": "ipython",
        "version": 3
      },
      "file_extension": ".py",
      "mimetype": "text/x-python",
      "name": "python",
      "nbconvert_exporter": "python",
      "pygments_lexer": "ipython3",
      "version": "3.6.3"
    },
    "colab": {
      "name": "6.trie_introduction.ipynb",
      "provenance": [],
      "include_colab_link": true
    }
  },
  "cells": [
    {
      "cell_type": "markdown",
      "metadata": {
        "id": "view-in-github",
        "colab_type": "text"
      },
      "source": [
        "<a href=\"https://colab.research.google.com/github/zenithexpo/DataStructures-Algorithm/blob/master/Basic%20Algorithms/Binary%20Search/6_trie_introduction.ipynb\" target=\"_parent\"><img src=\"https://colab.research.google.com/assets/colab-badge.svg\" alt=\"Open In Colab\"/></a>"
      ]
    },
    {
      "cell_type": "markdown",
      "metadata": {
        "graffitiCellId": "id_4zl18if",
        "id": "1_3vhKYZFN_l",
        "colab_type": "text"
      },
      "source": [
        "# Trie\n",
        "You've learned about Trees and Binary Search Trees. In this notebook, you'll learn about a new type of Tree called Trie. Before we dive into the details, let's talk about the kind of problem Trie can help with.\n",
        "\n",
        "Let's say you want to build software that provides spell check. This software will only say if the word is valid or not. It doesn't give suggested words. From the knowledge you've already learned, how would you build this?\n",
        "\n",
        "The simplest solution is to have a hashmap of all known words. It would take O(1) to see if a word exists, but the memory size would be O(n\\*m), where n is the number of words and m is the length of the word. Let's see how a Trie can help decrease the memory usage while sacrificing a little on performance.\n",
        "\n",
        "## Basic Trie\n",
        "Let's look at a basic Trie with the following words: \"a\", \"add\", and \"hi\""
      ]
    },
    {
      "cell_type": "code",
      "metadata": {
        "graffitiCellId": "id_gum3me0",
        "id": "SRf_BFtMFN_m",
        "colab_type": "code",
        "colab": {},
        "outputId": "43502917-a6e5-45be-eb81-a7f7b0f0080e"
      },
      "source": [
        "basic_trie = {\n",
        "    # a and add word\n",
        "    'a': {\n",
        "        'd': {\n",
        "            'd': {'word_end': True},\n",
        "            'word_end': False},\n",
        "        'word_end': True},\n",
        "    # hi word\n",
        "    'h': {\n",
        "        'i': {'word_end': True},\n",
        "        'word_end': False}}\n",
        "\n",
        "\n",
        "print('Is \"a\"   a word: {}'.format(basic_trie['a']['word_end']))\n",
        "print('Is \"ad\"  a word: {}'.format(basic_trie['a']['d']['word_end']))\n",
        "print('Is \"add\" a word: {}'.format(basic_trie['a']['d']['d']['word_end']))"
      ],
      "execution_count": 0,
      "outputs": [
        {
          "output_type": "stream",
          "text": [
            "Is \"a\"   a word: True\n",
            "Is \"ad\"  a word: False\n",
            "Is \"add\" a word: True\n"
          ],
          "name": "stdout"
        }
      ]
    },
    {
      "cell_type": "markdown",
      "metadata": {
        "graffitiCellId": "id_8a5nwsy",
        "id": "IaTeWy9nFN_q",
        "colab_type": "text"
      },
      "source": [
        "You can lookup a word by checking if `word_end` is `True` after traversing all the characters in the word. Let's look at the word \"hi\". The first letter is \"h\", so you would call `basic_trie['h']`. The second letter is \"i\", so you would call `basic_trie['h']['i']`. Since there's no more letters left, you would see if this is a valid word by getting the value of `word_end`. Now you have `basic_trie['h']['i']['word_end']` with `True` or `False` if the word exists.\n",
        "\n",
        "In `basic_trie`, words \"a\" and \"add\" overlapp. This is where a Trie saves memory. Instead of having \"a\" and \"add\" in different cells, their characters treated like nodes in a tree. Let's see how we would check if a word exists in `basic_trie`."
      ]
    },
    {
      "cell_type": "code",
      "metadata": {
        "graffitiCellId": "id_r22pqse",
        "id": "yz8FAkfvFN_r",
        "colab_type": "code",
        "colab": {},
        "outputId": "22207e19-a563-480b-b884-e5049fae4692"
      },
      "source": [
        "def is_word(word):\n",
        "    \"\"\"\n",
        "    Look for the word in `basic_trie`\n",
        "    \"\"\"\n",
        "    current_node = basic_trie\n",
        "    \n",
        "    for char in word:\n",
        "        if char not in current_node:\n",
        "            return False\n",
        "        \n",
        "        current_node = current_node[char]\n",
        "    \n",
        "    return current_node['word_end']\n",
        "\n",
        "\n",
        "# Test words\n",
        "test_words = ['ap', 'add']\n",
        "for word in test_words:\n",
        "    if is_word(word):\n",
        "        print('\"{}\" is a word.'.format(word))\n",
        "    else:\n",
        "        print('\"{}\" is not a word.'.format(word))"
      ],
      "execution_count": 0,
      "outputs": [
        {
          "output_type": "stream",
          "text": [
            "\"ap\" is not a word.\n",
            "\"add\" is a word.\n"
          ],
          "name": "stdout"
        }
      ]
    },
    {
      "cell_type": "markdown",
      "metadata": {
        "graffitiCellId": "id_rvrc2k0",
        "id": "pMLTYcq1FN_t",
        "colab_type": "text"
      },
      "source": [
        "The `is_word` starts with the root node, `basic_trie`. It traverses each character (`char`) in the word (`word`). If a character doesn't exist while traversing, this means the word doesn't exist in the trie. Once all the characters are traversed, the function returns the value of `current_node['word_end']`.\n",
        "\n",
        "You might notice the function `is_word` is similar to a binary search tree traversal. Since Trie is a tree, it makes sense that we would use a type of tree traversal. Now that you've seen a basic example of a Trie, let's build something more familiar.\n",
        "## Trie Using a Class\n",
        "Just like most tree data structures, let's use classes to build the Trie. Implement two functions for the `Trie` class below. Implement `add` to add a word to the Trie. Implement `exists` to return `True` if the word exist in the trie and `False` if the word doesn't exist in the trie.\n"
      ]
    },
    {
      "cell_type": "code",
      "metadata": {
        "graffitiCellId": "id_ripuwyf",
        "id": "MN5_kBI_FN_u",
        "colab_type": "code",
        "colab": {}
      },
      "source": [
        "class TrieNode(object):\n",
        "    def __init__(self):\n",
        "        self.is_word = False\n",
        "        self.children = {}\n",
        "\n",
        "class Trie(object):\n",
        "    def __init__(self):\n",
        "        self.root = TrieNode()\n",
        "    \n",
        "    def add(self, word):\n",
        "        \"\"\"\n",
        "        Add `word` to trie\n",
        "        \"\"\"\n",
        "        pass\n",
        "    \n",
        "    def exists(self, word):\n",
        "        \"\"\"\n",
        "        Check if word exists in trie\n",
        "        \"\"\"\n",
        "        pass"
      ],
      "execution_count": 0,
      "outputs": []
    },
    {
      "cell_type": "markdown",
      "metadata": {
        "graffitiCellId": "id_h7y0qpa",
        "id": "c_BgkjczFN_w",
        "colab_type": "text"
      },
      "source": [
        "<span class=\"graffiti-highlight graffiti-id_h7y0qpa-id_pncadbt\"><i></i><button>Hide Solution</button></span>"
      ]
    },
    {
      "cell_type": "code",
      "metadata": {
        "graffitiCellId": "id_pncadbt",
        "id": "BJV0zgGYFN_x",
        "colab_type": "code",
        "colab": {}
      },
      "source": [
        "class TrieNode(object):\n",
        "    def __init__(self):\n",
        "        self.is_word = False\n",
        "        self.children = {}\n",
        "\n",
        "\n",
        "class Trie(object):\n",
        "    def __init__(self):\n",
        "        self.root = TrieNode()\n",
        "\n",
        "    def add(self, word):\n",
        "        \"\"\"\n",
        "        Add `word` to trie\n",
        "        \"\"\"\n",
        "        current_node = self.root\n",
        "\n",
        "        for char in word:\n",
        "            if char not in current_node.children:\n",
        "                current_node.children[char] = TrieNode()\n",
        "            current_node = current_node.children[char]\n",
        "\n",
        "        current_node.is_word = True\n",
        "\n",
        "    def exists(self, word):\n",
        "        \"\"\"\n",
        "        Check if word exists in trie\n",
        "        \"\"\"\n",
        "        current_node = self.root\n",
        "\n",
        "        for char in word:\n",
        "            if char not in current_node.children:\n",
        "                return False\n",
        "            current_node = current_node.children[char]\n",
        "\n",
        "        return current_node.is_word"
      ],
      "execution_count": 0,
      "outputs": []
    },
    {
      "cell_type": "code",
      "metadata": {
        "graffitiCellId": "id_9l7z1sf",
        "id": "1X1cwd8lFN_z",
        "colab_type": "code",
        "colab": {},
        "outputId": "f05a7225-62a7-4c87-9a06-e551435c5c0e"
      },
      "source": [
        "word_list = ['apple', 'bear', 'goo', 'good', 'goodbye', 'goods', 'goodwill', 'gooses'  ,'zebra']\n",
        "word_trie = Trie()\n",
        "\n",
        "# Add words\n",
        "for word in word_list:\n",
        "    word_trie.add(word)\n",
        "\n",
        "# Test words\n",
        "test_words = ['bear', 'goo', 'good', 'goos']\n",
        "for word in test_words:\n",
        "    if word_trie.exists(word):\n",
        "        print('\"{}\" is a word.'.format(word))\n",
        "    else:\n",
        "        print('\"{}\" is not a word.'.format(word))"
      ],
      "execution_count": 0,
      "outputs": [
        {
          "output_type": "stream",
          "text": [
            "\"bear\" is not a word.\n",
            "\"goo\" is not a word.\n",
            "\"good\" is not a word.\n",
            "\"goos\" is not a word.\n"
          ],
          "name": "stdout"
        }
      ]
    },
    {
      "cell_type": "markdown",
      "metadata": {
        "graffitiCellId": "id_8irwsjx",
        "id": "fVyYF09NFN_1",
        "colab_type": "text"
      },
      "source": [
        "## Trie using Defaultdict (Optional)\n",
        "This is an optional section. Feel free to skip this and go to the next section of the classroom.\n",
        "\n",
        "A cleaner way to build a trie is with a Python default dictionary. The following `TrieNod` class is using `collections.defaultdict` instead of a normal dictionary."
      ]
    },
    {
      "cell_type": "code",
      "metadata": {
        "graffitiCellId": "id_9cezzui",
        "id": "kaQsLjlYFN_1",
        "colab_type": "code",
        "colab": {}
      },
      "source": [
        "import collections\n",
        "\n",
        "\n",
        "class TrieNode:\n",
        "    def __init__(self):\n",
        "        self.children = collections.defaultdict(TrieNode)\n",
        "        self.is_word = False"
      ],
      "execution_count": 0,
      "outputs": []
    },
    {
      "cell_type": "markdown",
      "metadata": {
        "graffitiCellId": "id_m7tuw99",
        "id": "3_EN9TMoFN_4",
        "colab_type": "text"
      },
      "source": [
        "Implement the `add` and `exists` function below using the new `TrieNode` class."
      ]
    },
    {
      "cell_type": "code",
      "metadata": {
        "graffitiCellId": "id_8y03wp7",
        "id": "Mei5Z6FSFN_4",
        "colab_type": "code",
        "colab": {}
      },
      "source": [
        "class Trie(object):\n",
        "    def __init__(self):\n",
        "        self.root = TrieNode()\n",
        "\n",
        "    def add(self, word):\n",
        "        \"\"\"\n",
        "        Add `word` to trie\n",
        "        \"\"\"\n",
        "        pass\n",
        "\n",
        "    def exists(self, word):\n",
        "        \"\"\"\n",
        "        Check if word exists in trie\n",
        "        \"\"\"\n",
        "        pass"
      ],
      "execution_count": 0,
      "outputs": []
    },
    {
      "cell_type": "markdown",
      "metadata": {
        "graffitiCellId": "id_158726u",
        "id": "jcDMAHaxFN_6",
        "colab_type": "text"
      },
      "source": [
        "<span class=\"graffiti-highlight graffiti-id_158726u-id_461jk1b\"><i></i><button>Hide Solution</button></span>"
      ]
    },
    {
      "cell_type": "code",
      "metadata": {
        "graffitiCellId": "id_461jk1b",
        "id": "jAmWXhD9FN_7",
        "colab_type": "code",
        "colab": {}
      },
      "source": [
        "class Trie(object):\n",
        "    def __init__(self):\n",
        "        self.root = TrieNode()\n",
        "\n",
        "    def add(self, word):\n",
        "        \"\"\"\n",
        "        Add `word` to trie\n",
        "        \"\"\"\n",
        "        current_node = self.root\n",
        "\n",
        "        for char in word:\n",
        "            current_node = current_node.children[char]\n",
        "\n",
        "            current_node.is_word = True\n",
        "\n",
        "    def exists(self, word):\n",
        "        \"\"\"\n",
        "        Check if word exists in trie\n",
        "        \"\"\"\n",
        "        current_node = self.root\n",
        "\n",
        "        for char in word:\n",
        "            if char not in current_node.children:\n",
        "                return False\n",
        "\n",
        "            current_node = current_node.children[char]\n",
        "\n",
        "        return current_node.is_word"
      ],
      "execution_count": 0,
      "outputs": []
    },
    {
      "cell_type": "code",
      "metadata": {
        "graffitiCellId": "id_6uuui8u",
        "id": "5HJAEouMFN_9",
        "colab_type": "code",
        "colab": {},
        "outputId": "bfb2f359-2886-4763-c520-2061775de6d2"
      },
      "source": [
        "# Add words\n",
        "valid_words = ['the', 'a', 'there', 'answer', 'any', 'by', 'bye', 'their']\n",
        "word_trie = Trie()\n",
        "for valid_word in valid_words:\n",
        "    word_trie.add(valid_word)\n",
        "\n",
        "# Tests\n",
        "assert word_trie.exists('the')\n",
        "assert word_trie.exists('any')\n",
        "assert not word_trie.exists('these')\n",
        "assert not word_trie.exists('zzz')\n",
        "print('All tests passed!')"
      ],
      "execution_count": 0,
      "outputs": [
        {
          "output_type": "stream",
          "text": [
            "All tests passed!\n"
          ],
          "name": "stdout"
        }
      ]
    },
    {
      "cell_type": "markdown",
      "metadata": {
        "graffitiCellId": "id_bcwz5dp",
        "id": "kLCJJbRbFOAA",
        "colab_type": "text"
      },
      "source": [
        "The Trie data structure is part of the family of Tree data structures. It shines when dealing with sequence data, whether it's characters, words, or network nodes. When working on a problem with sequence data, ask yourself if a Trie is right for the job."
      ]
    },
    {
      "cell_type": "code",
      "metadata": {
        "graffitiCellId": "id_0bwctf0",
        "id": "AlJnDgI7FOAA",
        "colab_type": "code",
        "colab": {}
      },
      "source": [
        ""
      ],
      "execution_count": 0,
      "outputs": []
    },
    {
      "cell_type": "code",
      "metadata": {
        "graffitiCellId": "id_qhlm5et",
        "id": "bVOGOaSAFOAC",
        "colab_type": "code",
        "colab": {}
      },
      "source": [
        ""
      ],
      "execution_count": 0,
      "outputs": []
    }
  ]
}