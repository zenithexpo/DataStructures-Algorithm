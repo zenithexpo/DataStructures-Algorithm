{
  "nbformat": 4,
  "nbformat_minor": 0,
  "metadata": {
    "kernelspec": {
      "display_name": "Python 3",
      "language": "python",
      "name": "python3"
    },
    "language_info": {
      "codemirror_mode": {
        "name": "ipython",
        "version": 3
      },
      "file_extension": ".py",
      "mimetype": "text/x-python",
      "name": "python",
      "nbconvert_exporter": "python",
      "pygments_lexer": "ipython3",
      "version": "3.6.3"
    },
    "colab": {
      "name": "4.Binary Variations.ipynb",
      "provenance": [],
      "include_colab_link": true
    }
  },
  "cells": [
    {
      "cell_type": "markdown",
      "metadata": {
        "id": "view-in-github",
        "colab_type": "text"
      },
      "source": [
        "<a href=\"https://colab.research.google.com/github/zenithexpo/DataStructures-Algorithm/blob/master/Basic%20Algorithms/Binary%20Search/4_Binary_Variations.ipynb\" target=\"_parent\"><img src=\"https://colab.research.google.com/assets/colab-badge.svg\" alt=\"Open In Colab\"/></a>"
      ]
    },
    {
      "cell_type": "markdown",
      "metadata": {
        "id": "jBOcuN-_7xVJ",
        "colab_type": "text"
      },
      "source": [
        "# Variations on Binary Search \n",
        "\n",
        "Now that you've gone through the work of building a binary search function, let's take some time to try out a few exercises that are variations (or extensions) of binary search. We'll provide the function for you to start:"
      ]
    },
    {
      "cell_type": "code",
      "metadata": {
        "id": "qbg8rNlM7xVL",
        "colab_type": "code",
        "colab": {}
      },
      "source": [
        "def recursive_binary_search(target, source, left=0):\n",
        "    if len(source) == 0:\n",
        "        return None\n",
        "    center = (len(source)-1) // 2\n",
        "    if source[center] == target:\n",
        "        return center + left\n",
        "    elif source[center] < target:\n",
        "        return recursive_binary_search(target, source[center+1:], left+center+1)\n",
        "    else:\n",
        "        return recursive_binary_search(target, source[:center], left)"
      ],
      "execution_count": 0,
      "outputs": []
    },
    {
      "cell_type": "markdown",
      "metadata": {
        "id": "LRCK2Nyc7xVb",
        "colab_type": "text"
      },
      "source": [
        "## Find First\n",
        "\n",
        "The binary search function is guaranteed to return _an_ index for the element you're looking for in an array, but what if the element appears more than once?\n",
        "\n",
        "Consider this array:\n",
        "\n",
        "`[1, 3, 5, 7, 7, 7, 8, 11, 12]`\n",
        "\n",
        "Let's find the number 7:"
      ]
    },
    {
      "cell_type": "code",
      "metadata": {
        "id": "vxmf87g37xVd",
        "colab_type": "code",
        "colab": {}
      },
      "source": [
        "multiple = [1, 3, 5, 7, 7, 7, 8, 11, 12]\n",
        "recursive_binary_search(7, multiple)"
      ],
      "execution_count": 0,
      "outputs": []
    },
    {
      "cell_type": "markdown",
      "metadata": {
        "id": "iR-DmfUE7xVh",
        "colab_type": "text"
      },
      "source": [
        "### Hmm...\n",
        "\n",
        "Looks like we got the index 4, which is _correct_, but what if we wanted to find the _first_ occurrence of an element, rather than just any occurrence?\n",
        "\n",
        "Write a new function: `find_first()` that uses binary_search as a starting point.\n",
        "\n",
        "> Hint: You shouldn't need to modify binary_search() at all."
      ]
    },
    {
      "cell_type": "code",
      "metadata": {
        "id": "fyhnZ_hz7xVi",
        "colab_type": "code",
        "colab": {}
      },
      "source": [
        "def find_first(target, source):\n",
        "    pass\n",
        "\n",
        "multiple = [1, 3, 5, 7, 7, 7, 8, 11, 12, 13, 14, 15]\n",
        "print(find_first(7, multiple)) # Should return 3\n",
        "print(find_first(9, multiple)) # Should return None\n",
        "\n",
        "\n",
        "## Add your own tests to verify that your code works!"
      ],
      "execution_count": 0,
      "outputs": []
    },
    {
      "cell_type": "markdown",
      "metadata": {
        "id": "V4tDGdQQ7xVk",
        "colab_type": "text"
      },
      "source": [
        "## Spoiler - Solution below:\n",
        "\n",
        "Here's what we came up with! You're answer might be a little different.\n",
        "\n",
        "```python\n",
        "def find_first(target, source):\n",
        "    index = recursive_binary_search(target, source)\n",
        "    if not index:\n",
        "        return None\n",
        "    while source[index] == target:\n",
        "        if index == 0:\n",
        "            return 0\n",
        "        if source[index-1] == target:\n",
        "            index -= 1\n",
        "        else:\n",
        "            return index\n",
        "```"
      ]
    },
    {
      "cell_type": "code",
      "metadata": {
        "id": "pL0r65517xVm",
        "colab_type": "code",
        "colab": {}
      },
      "source": [
        "def find_first(target, source):\n",
        "    index = recursive_binary_search(target, source)\n",
        "    if not index:\n",
        "        return None\n",
        "    while source[index] == target:\n",
        "        if index == 0:\n",
        "            return 0\n",
        "        if source[index-1] == target:\n",
        "            index -= 1\n",
        "        else:\n",
        "            return index\n",
        "\n",
        "multiple = [1, 3, 5, 7, 7, 7, 8, 11, 12, 13, 14, 15]\n",
        "print(find_first(7, multiple)) # Should return 3\n",
        "print(find_first(9, multiple)) # Should return None\n"
      ],
      "execution_count": 0,
      "outputs": []
    },
    {
      "cell_type": "markdown",
      "metadata": {
        "id": "Z7sR5AtF7xVq",
        "colab_type": "text"
      },
      "source": [
        "## Contains\n",
        "\n",
        "The second variation is a function that returns a boolean value indicating whether an element is _present_, but with no information about the location of that element.\n",
        "\n",
        "For example:\n",
        "\n",
        "```python\n",
        "letters = ['a', 'c', 'd', 'f', 'g']\n",
        "print(contains('a', letters)) ## True\n",
        "print(contains('b', letters)) ## False\n",
        "```\n",
        "\n",
        "There are a few different ways to approach this, so try it out, and we'll share two solutions after."
      ]
    },
    {
      "cell_type": "code",
      "metadata": {
        "id": "mQcvV7b87xVq",
        "colab_type": "code",
        "colab": {}
      },
      "source": [
        "def contains(target, source):\n",
        "    pass\n",
        "\n",
        "letters = ['a', 'c', 'd', 'f', 'g']\n",
        "print(contains('a', letters)) ## True\n",
        "print(contains('b', letters)) ## False"
      ],
      "execution_count": 0,
      "outputs": []
    },
    {
      "cell_type": "markdown",
      "metadata": {
        "id": "T44-3JDE7xVt",
        "colab_type": "text"
      },
      "source": [
        "## Spoiler - Solution below:\n",
        "\n",
        "Here are two solutions we came up with:\n",
        "\n",
        "One option is just to wrap binary search:\n",
        "\n",
        "```python\n",
        "def contains(target, source):\n",
        "    return recursive_binary_search(target, source) is not None\n",
        "```\n",
        "\n",
        "Another choice is to build a simpler binary search directly into the function:\n",
        "\n",
        "```python\n",
        "def contains(target, source):\n",
        "    # Since we don't need to keep track of the index, we can remove the `left` parameter.\n",
        "    if len(source) == 0:\n",
        "        return False\n",
        "    center = (len(source)-1) // 2\n",
        "    if source[center] == target:\n",
        "        return True\n",
        "    elif source[center] < target:\n",
        "        return contains(target, source[center+1:])\n",
        "    else:\n",
        "        return contains(target, source[:center])\n",
        "```\n",
        "\n",
        "Try these functions out below:"
      ]
    },
    {
      "cell_type": "code",
      "metadata": {
        "id": "pkeEtlGl7xVt",
        "colab_type": "code",
        "colab": {}
      },
      "source": [
        "# Loose wrapper for recursive binary search, returning True if the index is found and False if not\n",
        "def contains(target, source):\n",
        "    return recursive_binary_search(target, source) is not None\n",
        "\n",
        "letters = ['a', 'c', 'd', 'f', 'g']\n",
        "print(contains('a', letters)) ## True\n",
        "print(contains('b', letters)) ## False\n",
        "\n"
      ],
      "execution_count": 0,
      "outputs": []
    },
    {
      "cell_type": "code",
      "metadata": {
        "id": "pP9zLV4C7xVw",
        "colab_type": "code",
        "colab": {}
      },
      "source": [
        "# Native implementation of binary search in the `contains` function.\n",
        "def contains(target, source):\n",
        "    if len(source) == 0:\n",
        "        return False\n",
        "    center = (len(source)-1) // 2\n",
        "    if source[center] == target:\n",
        "        return True\n",
        "    elif source[center] < target:\n",
        "        return contains(target, source[center+1:])\n",
        "    else:\n",
        "        return contains(target, source[:center])\n",
        "\n",
        "letters = ['a', 'c', 'd', 'f', 'g']\n",
        "print(contains('c', letters)) ## True\n",
        "print(contains('b', letters)) ## False\n",
        "\n"
      ],
      "execution_count": 0,
      "outputs": []
    },
    {
      "cell_type": "markdown",
      "metadata": {
        "id": "lvtPSQxz7xVy",
        "colab_type": "text"
      },
      "source": [
        "## Awesome work!"
      ]
    },
    {
      "cell_type": "code",
      "metadata": {
        "id": "yNP_mLL_7xVz",
        "colab_type": "code",
        "colab": {}
      },
      "source": [
        ""
      ],
      "execution_count": 0,
      "outputs": []
    }
  ]
}