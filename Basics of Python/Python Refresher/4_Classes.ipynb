{
  "nbformat": 4,
  "nbformat_minor": 0,
  "metadata": {
    "colab": {
      "name": "4.Classes.ipynb",
      "provenance": [],
      "authorship_tag": "ABX9TyMV+RZJDnbxLswVRvrCdbrV",
      "include_colab_link": true
    },
    "kernelspec": {
      "name": "python3",
      "display_name": "Python 3"
    }
  },
  "cells": [
    {
      "cell_type": "markdown",
      "metadata": {
        "id": "view-in-github",
        "colab_type": "text"
      },
      "source": [
        "<a href=\"https://colab.research.google.com/github/zenithexpo/DataStructures-Algorithm/blob/master/Basics%20of%20Python/Python%20Refresher/4_Classes.ipynb\" target=\"_parent\"><img src=\"https://colab.research.google.com/assets/colab-badge.svg\" alt=\"Open In Colab\"/></a>"
      ]
    },
    {
      "cell_type": "markdown",
      "metadata": {
        "id": "FidtAIsjauP6",
        "colab_type": "text"
      },
      "source": [
        "# **Python Classes Overview**\n",
        "\n",
        "A class is a structure in object-oriented programming that allows functions and related data to be grouped together.\n",
        "\n",
        "In a Python class, an important concept is self, which is used to reference a class instance's own variables and functions from within the class definition. For example, if we had a class called Person and we wanted the class instances to have a variable called age, we could store this information by using self.age.\n",
        "\n",
        "Also, if we wanted the class to have a function that would increment the age of the person, we could define a function inside this class called def birthday(self). In order to be a class function, birthday needs to include the input variable self, as this is used for proper referencing within the class.\n",
        "\n",
        "Another important and commonly used function definition is the class initializer, def __ init __(self). The body of the initializer is where instance variable definitions should be added, and the initializer initializes all the variables once an instance of the class is created. Also, any input variables that a class needs to have, such as a name for the person can be passed into initializer function.\n"
      ]
    },
    {
      "cell_type": "markdown",
      "metadata": {
        "id": "0yqRRz_xeo9U",
        "colab_type": "text"
      },
      "source": [
        "self must be used when declaring a variable in an __ init __ function so that each instance of the class has its own copy of that variable."
      ]
    },
    {
      "cell_type": "markdown",
      "metadata": {
        "id": "U0zOvZike6Gl",
        "colab_type": "text"
      },
      "source": [
        "## **Examples of Python Classes**\n",
        "\n",
        "Below is an example of a basic Person class. The class has two variables for name and age, along with three functions for initializing the class, incrementing the person’s age, and getting the person’s name."
      ]
    },
    {
      "cell_type": "code",
      "metadata": {
        "id": "6I7zokt8ayCG",
        "colab_type": "code",
        "colab": {}
      },
      "source": [
        "class Person:\n",
        "    def __init__(self, name, age):\n",
        "        self.person_name = name\n",
        "        self.person_age = age\n",
        "\n",
        "    def birthday(self):\n",
        "        self.person_age += 1\n",
        "\n",
        "    def getName(self):\n",
        "        return self.person_name\n",
        "\n"
      ],
      "execution_count": 0,
      "outputs": []
    },
    {
      "cell_type": "markdown",
      "metadata": {
        "id": "7lKTkx_OfQXG",
        "colab_type": "text"
      },
      "source": [
        "Let’s look at an example for how to create an instance of the Person class using the class template above. We can then access that Person’s name:"
      ]
    },
    {
      "cell_type": "code",
      "metadata": {
        "id": "3UExsYYme4Cb",
        "colab_type": "code",
        "outputId": "dac208fa-0f0d-44dd-f34b-cc752c00279d",
        "colab": {
          "base_uri": "https://localhost:8080/",
          "height": 35
        }
      },
      "source": [
        "bob = Person('Bob', 32)\n",
        "print(bob.getName())\n",
        "# prints Bob"
      ],
      "execution_count": 0,
      "outputs": [
        {
          "output_type": "stream",
          "text": [
            "Bob\n"
          ],
          "name": "stdout"
        }
      ]
    },
    {
      "cell_type": "markdown",
      "metadata": {
        "id": "RajCQTzifczP",
        "colab_type": "text"
      },
      "source": [
        "Currently, we have one function for getting the class’s variable. This is called an Accessor. The other function that the class has is actually modifying one of the class’ variables, and that is called a Mutator. We can make our Person older by calling birthday()"
      ]
    },
    {
      "cell_type": "code",
      "metadata": {
        "id": "yFRLb0ZYfUBP",
        "colab_type": "code",
        "outputId": "7fd8e54b-d2b7-4873-ddbd-b999b9a39fa3",
        "colab": {
          "base_uri": "https://localhost:8080/",
          "height": 35
        }
      },
      "source": [
        "bob.birthday()\n",
        "print(bob.person_age)\n",
        "# prints 33"
      ],
      "execution_count": 0,
      "outputs": [
        {
          "output_type": "stream",
          "text": [
            "33\n"
          ],
          "name": "stdout"
        }
      ]
    },
    {
      "cell_type": "markdown",
      "metadata": {
        "id": "2Fa2FXcafvXo",
        "colab_type": "text"
      },
      "source": [
        "The birthday function call successfully increments the age of our Person. Also note that we can directly get the age of bob without using a function call. This is because the Person class variables are defined as public, so we can directly access them without a function call. If instead we wanted the Person’s age variable to be private to the class, in Python 3 we could put double underscores in front of the variable: __person_age. Then we would have to use a function call in order to retrieve it."
      ]
    },
    {
      "cell_type": "markdown",
      "metadata": {
        "id": "rIvdkOMvf9aD",
        "colab_type": "text"
      },
      "source": [
        "## **Exercise 1**\n",
        "\n",
        "Now let's assume that the current month is April, and you want to use a Person class to help make use of information about the friends in your contacts list. In particular, you'd like to increment the age of all of your friends with birthdays in April. You would also like to know who they are, along with their current ages, so you can send them birthday cards. Finally, you would also like to figure out which month has the most friends with birthdays, so you can budget for all of the birthday cards you will need to buy.\n",
        "\n",
        "In the following exercise, the Person class will be provided for you, and you will be working with a list of instances of the class, representing friends in your contacts. This list is stored in the variable people.\n",
        "\n",
        "To complete the exercise, you will need to do two things:\n",
        "\n",
        "    Complete the function get_april_birthdays(people). This function should return a dictionary with each name of your friend with an April birthday as a key, and their updated age as the value.\n",
        "    Complete the function get_most_common_month(people). This function should return the name of the month with the most number of birthdays among your friends.\n",
        "\n",
        "There is some testing code provided in test(), and there are more specific TODO instructions in each of the two functions mentioned.\n"
      ]
    },
    {
      "cell_type": "code",
      "metadata": {
        "id": "QqOvOWaBff5V",
        "colab_type": "code",
        "outputId": "3483ec9e-0250-41dd-f985-cc26add00267",
        "colab": {
          "base_uri": "https://localhost:8080/",
          "height": 53
        }
      },
      "source": [
        "class Person:\n",
        "    def __init__(self, name, age, month):\n",
        "        self.name = name\n",
        "        self.age = age\n",
        "        self.birthday_month = month\n",
        "        \n",
        "    def birthday(self):\n",
        "        self.age += 1\n",
        "\n",
        "def create_person_objects(names, ages, months):\n",
        "    my_data = zip(names, ages, months)\n",
        "    person_objects = []\n",
        "    for item in my_data:\n",
        "        person_objects.append(Person(*item))\n",
        "    return person_objects\n",
        "\n",
        "def get_april_birthdays(people):\n",
        "    # TODO:\n",
        "    # Increment \"age\" for all people with birthdays in April.\n",
        "    # Return a dictionary \"april_birthdays\" with the names of\n",
        "    # all people with April birthdays as keys, and their updated ages \n",
        "    # as values. See the test below for an example expected output.\n",
        "    april_birthdays = {}\n",
        "\n",
        "    \n",
        "    # TODO: Modify the return statement \n",
        "    return\n",
        "\n",
        "def get_most_common_month(people):\n",
        "    # TODO:\n",
        "    # Use the \"months\" dictionary to record counts of birthday months\n",
        "    # for persons in the \"people\" data.\n",
        "    # Return the month with the largest number of birthdays.\n",
        "    months = {'January':0, 'February':0, 'March':0, 'April':0, 'May':0, \n",
        "              'June':0, 'July':0, 'August':0, 'September':0, 'October':0,\n",
        "              'November':0, 'December':0}\n",
        "    \n",
        "    # TODO: Modify the return statement.\n",
        "    return\n",
        "\n",
        "\n",
        "def test():\n",
        "    # Here is the data for the test. Assume there is a single most common month.\n",
        "    names = ['Howard', 'Richard', 'Jules', 'Trula', 'Michael', 'Elizabeth', 'Richard', 'Shirley', 'Mark', 'Brianna', 'Kenneth', 'Gwen', 'William', 'Rosa', 'Denver', 'Shelly', 'Sammy', 'Maryann', 'Kathleen', 'Andrew', 'Joseph', 'Kathleen', 'Lisa', 'Viola', 'George', 'Bonnie', 'Robert', 'William', 'Sabrina', 'John', 'Robert', 'Gil', 'Calvin', 'Robert', 'Dusty', 'Dario', 'Joeann', 'Terry', 'Alan', 'Rosa', 'Jeane', 'James', 'Rachel', 'Tu', 'Chelsea', 'Andrea', 'Ernest', 'Erica', 'Priscilla', 'Carol', 'Michael', 'Dale', 'Arthur', 'Helen', 'James', 'Donna', 'Patricia', 'Betty', 'Patricia', 'Mollie', 'Nicole', 'Ernest', 'Wendy', 'Graciela', 'Teresa', 'Nicole', 'Trang', 'Caleb', 'Robert', 'Paul', 'Nieves', 'Arleen', 'Milton', 'James', 'Lawrence', 'Edward', 'Susan', 'Patricia', 'Tana', 'Jessica', 'Suzanne', 'Darren', 'Arthur', 'Holly', 'Mary', 'Randal', 'John', 'Laura', 'Betty', 'Chelsea', 'Margaret', 'Angel', 'Jeffrey', 'Mary', 'Donald', 'David', 'Roger', 'Evan', 'Danny', 'William']\n",
        "    ages  = [17, 58, 79, 8, 10, 57, 4, 98, 19, 47, 81, 68, 48, 13, 39, 21, 98, 51, 49, 12, 24, 78, 36, 59, 3, 87, 94, 85, 43, 69, 15, 52, 57, 36, 52, 5, 52, 5, 33, 10, 71, 28, 70, 9, 25, 28, 76, 71, 22, 35, 35, 100, 9, 95, 69, 52, 66, 91, 39, 84, 65, 29, 20, 98, 30, 83, 30, 15, 88, 89, 24, 98, 62, 94, 86, 63, 34, 23, 23, 19, 10, 80, 88, 67, 17, 91, 85, 97, 29, 7, 34, 38, 92, 29, 14, 52, 94, 62, 70, 22]\n",
        "    months = ['January', 'March', 'January', 'October', 'April', 'February', 'August', 'January', 'June', 'August', 'February', 'May', 'March', 'June', 'February', 'August', 'June', 'March', 'August', 'April', 'April', 'June', 'April', 'June', 'February', 'September', 'March', 'July', 'September', 'December', 'June', 'June', 'August', 'November', 'April', 'November', 'August', 'June', 'January', 'August', 'May', 'March', 'March', 'March', 'May', 'September', 'August', 'April', 'February', 'April', 'May', 'March', 'March', 'January', 'August', 'October', 'February', 'November', 'August', 'June', 'September', 'September', 'January', 'September', 'July', 'July', 'December', 'June', 'April', 'February', 'August', 'September', 'August', 'February', 'April', 'July', 'May', 'November', 'December', 'February', 'August', 'August', 'September', 'December', 'February', 'March', 'June', 'December', 'February', 'May', 'April', 'July', 'March', 'June', 'December', 'March', 'July', 'May', 'September', 'November']\n",
        "    people = create_person_objects(names, ages, months)\n",
        "\n",
        "    # Calls to the two functions you have completed.\n",
        "    print(get_april_birthdays(people))\n",
        "    print(get_most_common_month(people))\n",
        "\n",
        "\n",
        "\n",
        "test()\n",
        "# Expected result:\n",
        "# {'Michael': 11, 'Erica': 72, 'Carol': 36, 'Lisa': 37, 'Lawrence': 87, 'Joseph': 25, 'Margaret': 35, 'Andrew': 13, 'Dusty': 53, 'Robert': 89}\n",
        "# August\n"
      ],
      "execution_count": 0,
      "outputs": [
        {
          "output_type": "stream",
          "text": [
            "None\n",
            "None\n"
          ],
          "name": "stdout"
        }
      ]
    },
    {
      "cell_type": "code",
      "metadata": {
        "id": "Cn5TBsz1gENU",
        "colab_type": "code",
        "outputId": "b490e056-b266-4ee4-e3dc-2ce52bf94bd5",
        "colab": {
          "base_uri": "https://localhost:8080/",
          "height": 53
        }
      },
      "source": [
        "class Person:\n",
        "    def __init__(self, name, age, month):\n",
        "        self.name = name\n",
        "        self.age = age\n",
        "        self.birthday_month = month\n",
        "        \n",
        "    def birthday(self):\n",
        "        self.age += 1\n",
        "\n",
        "def create_person_objects(names, ages, months):\n",
        "    my_data = zip(names, ages, months)\n",
        "    person_objects = []\n",
        "    for item in my_data:\n",
        "        person_objects.append(Person(*item))\n",
        "    return person_objects\n",
        "\n",
        "def get_april_birthdays(people):\n",
        "    # TODO:\n",
        "    # Increment \"age\" for all people with birthdays in April.\n",
        "    # Return a dictionary \"april_birthdays\" with the names of\n",
        "    # all people with April birthdays as keys, and their updated ages \n",
        "    # as values. See the test below for an example expected output.\n",
        "    april_birthdays = {}\n",
        "    for person in people:\n",
        "        if person.birthday_month == 'April':\n",
        "            person.age += 1\n",
        "            april_birthdays[person.name] = person.age\n",
        "            \n",
        "    return april_birthdays\n",
        "\n",
        "def get_most_common_month(people):\n",
        "    # TODO: Use the \"months\" dictionary to record counts of \n",
        "    # birthday months for persons in the \"people\" data.\n",
        "    # Return the month with the largest number of birthdays.\n",
        "    months = {'January':0, 'February':0, 'March':0, 'April':0, 'May':0, \n",
        "              'June':0, 'July':0, 'August':0, 'September':0, 'October':0,\n",
        "              'November':0, 'December':0}\n",
        "\n",
        "    for person in people:\n",
        "        months[person.birthday_month] += 1\n",
        "\n",
        "    max_month = None\n",
        "    max_value = 0\n",
        "    for key in months.keys():\n",
        "        if months[key] > max_value:\n",
        "            max_value = months[key]\n",
        "            max_month = key\n",
        "\n",
        "    return max_month\n",
        "\n",
        "\n",
        "\n",
        "def test():\n",
        "    # Here is the data for the test. Assume there is a single most common month.\n",
        "    names = ['Howard', 'Richard', 'Jules', 'Trula', 'Michael', 'Elizabeth', 'Richard', 'Shirley', 'Mark', 'Brianna', 'Kenneth', 'Gwen', 'William', 'Rosa', 'Denver', 'Shelly', 'Sammy', 'Maryann', 'Kathleen', 'Andrew', 'Joseph', 'Kathleen', 'Lisa', 'Viola', 'George', 'Bonnie', 'Robert', 'William', 'Sabrina', 'John', 'Robert', 'Gil', 'Calvin', 'Robert', 'Dusty', 'Dario', 'Joeann', 'Terry', 'Alan', 'Rosa', 'Jeane', 'James', 'Rachel', 'Tu', 'Chelsea', 'Andrea', 'Ernest', 'Erica', 'Priscilla', 'Carol', 'Michael', 'Dale', 'Arthur', 'Helen', 'James', 'Donna', 'Patricia', 'Betty', 'Patricia', 'Mollie', 'Nicole', 'Ernest', 'Wendy', 'Graciela', 'Teresa', 'Nicole', 'Trang', 'Caleb', 'Robert', 'Paul', 'Nieves', 'Arleen', 'Milton', 'James', 'Lawrence', 'Edward', 'Susan', 'Patricia', 'Tana', 'Jessica', 'Suzanne', 'Darren', 'Arthur', 'Holly', 'Mary', 'Randal', 'John', 'Laura', 'Betty', 'Chelsea', 'Margaret', 'Angel', 'Jeffrey', 'Mary', 'Donald', 'David', 'Roger', 'Evan', 'Danny', 'William']\n",
        "    ages  = [17, 58, 79, 8, 10, 57, 4, 98, 19, 47, 81, 68, 48, 13, 39, 21, 98, 51, 49, 12, 24, 78, 36, 59, 3, 87, 94, 85, 43, 69, 15, 52, 57, 36, 52, 5, 52, 5, 33, 10, 71, 28, 70, 9, 25, 28, 76, 71, 22, 35, 35, 100, 9, 95, 69, 52, 66, 91, 39, 84, 65, 29, 20, 98, 30, 83, 30, 15, 88, 89, 24, 98, 62, 94, 86, 63, 34, 23, 23, 19, 10, 80, 88, 67, 17, 91, 85, 97, 29, 7, 34, 38, 92, 29, 14, 52, 94, 62, 70, 22]\n",
        "    months = ['January', 'March', 'January', 'October', 'April', 'February', 'August', 'January', 'June', 'August', 'February', 'May', 'March', 'June', 'February', 'August', 'June', 'March', 'August', 'April', 'April', 'June', 'April', 'June', 'February', 'September', 'March', 'July', 'September', 'December', 'June', 'June', 'August', 'November', 'April', 'November', 'August', 'June', 'January', 'August', 'May', 'March', 'March', 'March', 'May', 'September', 'August', 'April', 'February', 'April', 'May', 'March', 'March', 'January', 'August', 'October', 'February', 'November', 'August', 'June', 'September', 'September', 'January', 'September', 'July', 'July', 'December', 'June', 'April', 'February', 'August', 'September', 'August', 'February', 'April', 'July', 'May', 'November', 'December', 'February', 'August', 'August', 'September', 'December', 'February', 'March', 'June', 'December', 'February', 'May', 'April', 'July', 'March', 'June', 'December', 'March', 'July', 'May', 'September', 'November']\n",
        "    people = create_person_objects(names, ages, months)\n",
        "\n",
        "    # Calls to the two functions you have completed.\n",
        "    print(get_april_birthdays(people))\n",
        "    print(get_most_common_month(people))\n",
        "\n",
        "\n",
        "\n",
        "test()\n",
        "# Expected result:\n",
        "# {'Michael': 11, 'Erica': 72, 'Carol': 36, 'Lisa': 37, 'Lawrence': 87, 'Joseph': 25, 'Margaret': 35, 'Andrew': 13, 'Dusty': 53, 'Robert': 89}\n",
        "# August\n"
      ],
      "execution_count": 0,
      "outputs": [
        {
          "output_type": "stream",
          "text": [
            "{'Michael': 11, 'Andrew': 13, 'Joseph': 25, 'Lisa': 37, 'Dusty': 53, 'Erica': 72, 'Carol': 36, 'Robert': 89, 'Lawrence': 87, 'Margaret': 35}\n",
            "August\n"
          ],
          "name": "stdout"
        }
      ]
    },
    {
      "cell_type": "code",
      "metadata": {
        "id": "JNnpPc5agH12",
        "colab_type": "code",
        "colab": {}
      },
      "source": [
        ""
      ],
      "execution_count": 0,
      "outputs": []
    }
  ]
}