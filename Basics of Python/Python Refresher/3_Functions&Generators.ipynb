{
  "nbformat": 4,
  "nbformat_minor": 0,
  "metadata": {
    "colab": {
      "name": "3.Functions&Generators.ipynb",
      "provenance": [],
      "authorship_tag": "ABX9TyO6/xXASbNShokjgeJJf0YL",
      "include_colab_link": true
    },
    "kernelspec": {
      "name": "python3",
      "display_name": "Python 3"
    }
  },
  "cells": [
    {
      "cell_type": "markdown",
      "metadata": {
        "id": "view-in-github",
        "colab_type": "text"
      },
      "source": [
        "<a href=\"https://colab.research.google.com/github/zenithexpo/DataStructures-Algorithm/blob/master/Basics%20of%20Python/Python%20Refresher/3_Functions%26Generators.ipynb\" target=\"_parent\"><img src=\"https://colab.research.google.com/assets/colab-badge.svg\" alt=\"Open In Colab\"/></a>"
      ]
    },
    {
      "cell_type": "markdown",
      "metadata": {
        "id": "XvH_BzNwUtOk",
        "colab_type": "text"
      },
      "source": [
        "# **Python Functions**\n",
        "\n",
        "In the previous exercises, you worked with examples of Python functions. If you haven't written one from scratch in a while, writing a function in Python involves a function declaration def that takes one or more values, and a return that returns one or more values. Unlike some other languages, in Python you are not required to specify the data-type of the value your function is going to return.\n",
        "\n",
        "Note: In Python every function returns a value. In case you do not specify a return value explicitly, Python will return None from that function.\n"
      ]
    },
    {
      "cell_type": "code",
      "metadata": {
        "id": "jkN1jDhVU0oP",
        "colab_type": "code",
        "colab": {}
      },
      "source": [
        "# Example function 1: return the sum of two numbers.\n",
        "def sum(a, b):\n",
        "    return a+b\n",
        "\n",
        "# Example function 2: return the size of list, and modify the list to now be sorted.\n",
        "def list_sort(my_list):\n",
        "    my_list.sort()\n",
        "    return len(my_list),  my_list"
      ],
      "execution_count": 0,
      "outputs": []
    },
    {
      "cell_type": "markdown",
      "metadata": {
        "id": "jnkCg-6OU7ik",
        "colab_type": "text"
      },
      "source": [
        "## **Python Generators**\n",
        "\n",
        "A generator in Python is similar to a function except instead of returning a value and exiting a process, a generator will pause the process, saving its state for next time. The biggest difference between a function and generator from a code perspective is one word: return is changed to yield.\n",
        "\n",
        "A generator becomes very useful when dealing with very large collections of data that you don’t want to store in memory all at once. It’s also very useful for dealing with extremely large or even infinite series.\n",
        "\n",
        "Below is an example of how to use a generator to print even numbers. Printing all even numbers at once would take an infinite amount of time, but the generator allows the process to pause, and go back to creating even numbers when needed.\n",
        "\n",
        "To create the next successive even number simply call next() on the generator object, and it will yield the next iteration. After yield is called, everything in the state of the generator function freezes, and the value is returned. When the generator is called again with next(), it picks back up right where it stopped at yield from before.\n"
      ]
    },
    {
      "cell_type": "code",
      "metadata": {
        "id": "rWy0X5RuU3sw",
        "colab_type": "code",
        "colab": {}
      },
      "source": [
        "# Definition of the generator to produce even numbers.\n",
        "def all_even():\n",
        "    n = 0\n",
        "    while True:\n",
        "        yield n\n",
        "        n += 2\n",
        "\n",
        "my_gen = all_even()\n",
        "\n",
        "# Generate the first 5 even numbers.\n",
        "for i in range(5):\n",
        "    print(next(my_gen))\n",
        "\n",
        "# Now go and do some other processing.\n",
        "do_something = 4\n",
        "do_something += 3\n",
        "print(do_something)\n",
        "\n",
        "# Now go back to generating more even numbers.\n",
        "for i in range(100):\n",
        "    print(next(my_gen))"
      ],
      "execution_count": 0,
      "outputs": []
    },
    {
      "cell_type": "markdown",
      "metadata": {
        "id": "FwSVuTF2VRPV",
        "colab_type": "text"
      },
      "source": [
        "he example above is showing the advantage of using a generator to be able to pause the process and be able to do other things.\n",
        "\n",
        "# **Exercise 1**\n",
        "\n",
        "In the following exercise, you will create a generator fact_gen() that generates factorials. For a number n, n factorial is denoted by n!, and it is the product of all positive integers less than or equal to n. For example,\n",
        "\n",
        "    5! = 5 * 4 * 3 * 2 * 1 = 120\n",
        "\n",
        "In this exercise, you will define prod(a, b) which returns the product of numbers a and b. You will also define fact_gen() which yields the next factorial number.\n"
      ]
    },
    {
      "cell_type": "code",
      "metadata": {
        "id": "GJeTSibAVL7f",
        "colab_type": "code",
        "outputId": "61c530cf-e02d-4fc4-e74b-e783e8c45326",
        "colab": {
          "base_uri": "https://localhost:8080/",
          "height": 108
        }
      },
      "source": [
        "def prod(a,b):\n",
        "    # TODO change output to the product of a and b\n",
        "    output = a*b\n",
        "    return output\n",
        "\n",
        "def fact_gen():\n",
        "    i = 1\n",
        "    n = i\n",
        "    while True:\n",
        "        output = prod(n, i)\n",
        "        yield output\n",
        "        # TODO: update i and n\n",
        "        # Hint: i is a successive integer and n is the previous product\n",
        "        i+=1\n",
        "        n = output\n",
        "        \n",
        "\n",
        "\n",
        "# Test block\n",
        "my_gen = fact_gen()\n",
        "num = 5\n",
        "for i in range(num):\n",
        "    print(next(my_gen))\n",
        "\n",
        "# Correct result when num = 5:\n",
        "# 1\n",
        "# 2\n",
        "# 6\n",
        "# 24\n",
        "# 120\n",
        "\n",
        "\n"
      ],
      "execution_count": 0,
      "outputs": [
        {
          "output_type": "stream",
          "text": [
            "1\n",
            "2\n",
            "6\n",
            "24\n",
            "120\n"
          ],
          "name": "stdout"
        }
      ]
    },
    {
      "cell_type": "markdown",
      "metadata": {
        "id": "w-WyRIdRZzwA",
        "colab_type": "text"
      },
      "source": [
        "# **Exercise 2**\n",
        "\n",
        "In the next exercise, you will write a function that checks sudoku squares for correctness.\n",
        "\n",
        "Sudoku is a logic puzzle where a game is defined by a partially filled 9 x 9 square of digits where each square contains one of the digits 1, 2, 3, 4, 5, 6, 7, 8, 9. For this question we will generalize and simplify the game.\n",
        "\n",
        "Define a procedure, check_sudoku, that takes as input a square list of lists representing an n x n sudoku puzzle solution and returns the boolean True if the input is a valid sudoku square and returns the boolean False otherwise.\n",
        "\n",
        "A valid sudoku square satisfies these two properties:\n",
        "\n",
        "    Each column of the square contains each of the whole numbers from 1 to n exactly once.\n",
        "\n",
        "    Each row of the square contains each of the whole numbers from 1 to n exactly once.\n",
        "\n",
        "You may assume that the input is square and contains at least one row and column.\n"
      ]
    },
    {
      "cell_type": "code",
      "metadata": {
        "id": "CRqByFo2Vf-m",
        "colab_type": "code",
        "colab": {}
      },
      "source": [
        " # An example solution for the check_sudoku() function\n",
        "\n",
        "def check_sudoku(square):\n",
        "    for row in square:\n",
        "        # Create a list with the integers 1, 2, ..., n.\n",
        "        # We will check that each number in the row is in the list\n",
        "        # and remove the numbers from the list once they are verified\n",
        "        # to ensure that each number only occurs once in the row.\n",
        "        check_list = list(range(1, len(square[0]) + 1))\n",
        "        for i in row:\n",
        "            if i not in check_list:\n",
        "                return False\n",
        "            check_list.remove(i)\n",
        "    for n in range(len(square[0])):\n",
        "        # We do the same here for each column in the square.\n",
        "        check_list = list(range(1, len(square[0]) + 1))\n",
        "        for row in square:\n",
        "            if row[n] not in check_list:\n",
        "                return False\n",
        "            check_list.remove(row[n])\n",
        "    return True"
      ],
      "execution_count": 0,
      "outputs": []
    },
    {
      "cell_type": "code",
      "metadata": {
        "id": "CSwztA2VZ5gi",
        "colab_type": "code",
        "colab": {}
      },
      "source": [
        ""
      ],
      "execution_count": 0,
      "outputs": []
    }
  ]
}